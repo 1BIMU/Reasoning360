{
 "cells": [
  {
   "cell_type": "code",
   "execution_count": null,
   "metadata": {},
   "outputs": [
    {
     "name": "stdout",
     "output_type": "stream",
     "text": [
      "{'id': '2172908b0fc44e189df6415ac859011a', 'object': 'chat.completion', 'created': 1741734490, 'model': 'Qwen/Qwen2.5-7B-Instruct', 'choices': [{'index': 0, 'message': {'role': 'assistant', 'content': 'The capital of France is Paris.', 'reasoning_content': None, 'tool_calls': None}, 'logprobs': None, 'finish_reason': 'stop', 'matched_stop': 151645}], 'usage': {'prompt_tokens': 36, 'total_tokens': 44, 'completion_tokens': 8, 'prompt_tokens_details': None}}\n"
     ]
    }
   ],
   "source": [
    "import requests\n",
    "\n",
    "url = f\"http://localhost:30000/v1/chat/completions\"\n",
    "\n",
    "data = {\n",
    "    \"model\": \"Qwen/Qwen2.5-7B-Instruct\",\n",
    "    \"messages\": [{\"role\": \"user\", \"content\":}],\n",
    "}\n",
    "\n",
    "response = requests.post(url, json=data)\n",
    "print(response.json())"
   ]
  },
  {
   "cell_type": "code",
   "execution_count": 39,
   "metadata": {},
   "outputs": [],
   "source": [
    "input_template = \"\"\"You are a teacher and your task is to grade the student's answer with the reference answer.\n",
    "\n",
    "Question: [QUESTION]\n",
    "\n",
    "Student's Answer: [STUDENT'S ANSWER]\n",
    "\n",
    "Reference Answer: [REFERENCE ANSWER]\n",
    "\n",
    "You only need to refer to the reference answer to grade the student's answer. Sometimes the student's answer is expressed in a different way from the reference answer, but the meaning is the same, and you should still consider it correct. If they are not equivalent in mathematical sense, you should consider it incorrect.\n",
    "\n",
    "Please provide a brief explanation (1-2 sentences) of your grading process and put your final grade in the following format:\n",
    "\n",
    "Final Grade: CORRECT or INCORRECT\n",
    "\"\"\""
   ]
  },
  {
   "cell_type": "code",
   "execution_count": 41,
   "metadata": {},
   "outputs": [
    {
     "name": "stderr",
     "output_type": "stream",
     "text": [
      "<>:1: SyntaxWarning: invalid escape sequence '\\l'\n",
      "<>:1: SyntaxWarning: invalid escape sequence '\\l'\n",
      "/tmp/ipykernel_1584906/3087308474.py:1: SyntaxWarning: invalid escape sequence '\\l'\n",
      "  q = \"Solve the inequality system: $\\left\\{\\begin{array}{c}3x-1>x+1\\\\ \\frac{4x-5}{3}\\leq x\\end{array}\\right.$.\"\n"
     ]
    },
    {
     "name": "stdout",
     "output_type": "stream",
     "text": [
      "You are a teacher and your task is to grade the student's answer with the reference answer.\n",
      "\n",
      "ight.$.n: Solve the inequality system: $\\left\\egin{array}{c}3x-1>x+1\\ \frac{4x-5}{3}\\leq x\\end{array}\n",
      "\n",
      "Student's Answer: (1, 5)\n",
      "\n",
      "Reference Answer: 1 < x \\leq 5\n",
      "\n",
      "You only need to refer to the reference answer to grade the student's answer. Sometimes the student's answer is expressed in a different way from the reference answer, but the meaning is the same, and you should still consider it correct. If they are not equivalent in mathematical sense, you should consider it incorrect.\n",
      "\n",
      "Please provide a brief explanation (1-2 sentences) of your grading process and put your final grade in the following format:\n",
      "\n",
      "Final Grade: CORRECT or INCORRECT\n",
      "\n",
      "{'id': 'ef80b8272e5043749859b2e128564f22', 'object': 'chat.completion', 'created': 1741736110, 'model': 'Qwen/Qwen2.5-7B-Instruct', 'choices': [{'index': 0, 'message': {'role': 'assistant', 'content': \"The student's answer (1, 5) represents the interval notation for the solution set 1 < x ≤ 5, which matches the reference answer. Therefore, the student's answer is correct.\\n\\nFinal Grade: CORRECT\", 'reasoning_content': None, 'tool_calls': None}, 'logprobs': None, 'finish_reason': 'stop', 'matched_stop': 151645}], 'usage': {'prompt_tokens': 217, 'total_tokens': 264, 'completion_tokens': 47, 'prompt_tokens_details': None}}\n"
     ]
    }
   ],
   "source": [
    "q = \"Solve the inequality system: $\\left\\{\\begin{array}{c}3x-1>x+1\\\\ \\frac{4x-5}{3}\\leq x\\end{array}\\right.$.\"\n",
    "ref = \"1 < x \\\\leq 5\"\n",
    "answer = \"(1, 5)\"\n",
    "inputs = input_template.replace(\"[QUESTION]\", q).replace(\"[STUDENT'S ANSWER]\", answer).replace(\"[REFERENCE ANSWER]\", ref)\n",
    "print(inputs)\n",
    "data = {\n",
    "    \"model\": \"Qwen/Qwen2.5-7B-Instruct\",\n",
    "    \"messages\": [{\"role\": \"user\", \"content\": inputs}],\n",
    "}\n",
    "response = requests.post(url, json=data)\n",
    "print(response.json())"
   ]
  },
  {
   "cell_type": "code",
   "execution_count": 37,
   "metadata": {},
   "outputs": [
    {
     "data": {
      "text/plain": [
       "\"The student's answer includes an interval where \\\\(x = 1\\\\) and \\\\(x = 2\\\\) are excluded separately, but the reference answer only excludes \\\\(x = 1\\\\). Since \\\\(x = 2\\\\) does not make the expression undefined, the correct range should only exclude \\\\(x = 1\\\\).\\n\\nFinal Grade: INCORRECT\""
      ]
     },
     "execution_count": 37,
     "metadata": {},
     "output_type": "execute_result"
    }
   ],
   "source": []
  },
  {
   "cell_type": "code",
   "execution_count": 35,
   "metadata": {},
   "outputs": [
    {
     "name": "stdout",
     "output_type": "stream",
     "text": [
      "You are a teacher and your task is to grade the student's answer with the reference answer.\n",
      "\n",
      "Question: To make the expression $\\frac{{x+3}}{{x-1}}+{({x-2})^0}$ meaningful, the range of $x$ is ____.\n",
      "\n",
      "Student's Answer: (-\\infty, 1) \\cup (1, 2) \\cup (2, \\infty)\n",
      "\n",
      "Reference Answer: x \\neq 1\n",
      "\n",
      "You only need to refer to the reference answer to grade the student's answer. Sometimes the student's answer is expressed in a different way from the reference answer, but the meaning is the same, and you should still consider it correct. If they are not equivalent in mathematical sense, you should consider it incorrect.\n",
      "\n",
      "Please provide a brief explanation (1-2 sentences) of your grading process and put your final grade in the following format:\n",
      "\n",
      "Final Grade: CORRECT or INCORRECT\n",
      "\n"
     ]
    },
    {
     "name": "stdout",
     "output_type": "stream",
     "text": [
      "{'id': '623b00408b994bcda20b11cbbffd6902', 'object': 'chat.completion', 'created': 1741735399, 'model': 'Qwen/Qwen2.5-7B-Instruct', 'choices': [{'index': 0, 'message': {'role': 'assistant', 'content': \"The student's answer includes an interval where \\\\(x = 1\\\\) and \\\\(x = 2\\\\) are excluded separately, but the reference answer only excludes \\\\(x = 1\\\\). Since \\\\(x = 2\\\\) does not make the expression undefined, the correct range should only exclude \\\\(x = 1\\\\).\\n\\nFinal Grade: INCORRECT\", 'reasoning_content': None, 'tool_calls': None}, 'logprobs': None, 'finish_reason': 'stop', 'matched_stop': 151645}], 'usage': {'prompt_tokens': 222, 'total_tokens': 294, 'completion_tokens': 72, 'prompt_tokens_details': None}}\n"
     ]
    }
   ],
   "source": [
    "q = \"To make the expression $\\\\frac{{x+3}}{{x-1}}+{({x-2})^0}$ meaningful, the range of $x$ is ____.\"\n",
    "ref = \"x \\\\neq 1\"\n",
    "answer = \"(-\\\\infty, 1) \\\\cup (1, 2) \\\\cup (2, \\\\infty)\"\n",
    "input_template = input_template.replace(\"[QUESTION]\", q).replace(\"[STUDENT'S ANSWER]\", answer).replace(\"[REFERENCE ANSWER]\", ref)\n",
    "print(input_template)\n",
    "data = {\n",
    "    \"model\": \"Qwen/Qwen2.5-7B-Instruct\",\n",
    "    \"messages\": [{\"role\": \"user\", \"content\": input_template}],\n",
    "}\n",
    "response = requests.post(url, json=data)\n",
    "print(response.json())"
   ]
  },
  {
   "cell_type": "code",
   "execution_count": null,
   "metadata": {},
   "outputs": [],
   "source": []
  }
 ],
 "metadata": {
  "kernelspec": {
   "display_name": "base",
   "language": "python",
   "name": "python3"
  },
  "language_info": {
   "codemirror_mode": {
    "name": "ipython",
    "version": 3
   },
   "file_extension": ".py",
   "mimetype": "text/x-python",
   "name": "python",
   "nbconvert_exporter": "python",
   "pygments_lexer": "ipython3",
   "version": "3.12.8"
  }
 },
 "nbformat": 4,
 "nbformat_minor": 2
}
